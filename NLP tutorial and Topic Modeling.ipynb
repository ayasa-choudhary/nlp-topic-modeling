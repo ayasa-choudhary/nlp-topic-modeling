{
 "cells": [
  {
   "cell_type": "markdown",
   "id": "44879917-4a5f-4f95-b46c-cf4ed1329769",
   "metadata": {},
   "source": [
    "# 1.case study: how to read text,clean,tokenize,punctuation,and how to remove stopwords"
   ]
  },
  {
   "cell_type": "code",
   "execution_count": 1,
   "id": "08bbde6e-0603-4f92-abf1-804387aeacbf",
   "metadata": {},
   "outputs": [
    {
     "name": "stdout",
     "output_type": "stream",
     "text": [
      "The meaning of NLP is Natural Language Processing (NLP) which is a fascinating and rapidly evolving field that intersects computer science, artificial intelligence, and linguistics. NLP focuses on the interaction between computers and human language, enabling machines to understand, interpret, and generate human language in a way that is both meaningful and useful. With the increasing volume of text data generated every day, from social media posts to research articles, NLP has become an essential tool for extracting valuable insights and automating various tasks.\n",
      "\n"
     ]
    }
   ],
   "source": [
    "##how to file read\n",
    "text_file=open(\"clean_text.txt\")\n",
    "text=text_file.read()\n",
    "print(text)"
   ]
  },
  {
   "cell_type": "code",
   "execution_count": 2,
   "id": "a069c4e6-ae01-4625-8d8d-8e36b36eb6f3",
   "metadata": {},
   "outputs": [
    {
     "name": "stdout",
     "output_type": "stream",
     "text": [
      "['The meaning of NLP is Natural Language Processing (NLP) which is a fascinating and rapidly evolving field that intersects computer science, artificial intelligence, and linguistics.', 'NLP focuses on the interaction between computers and human language, enabling machines to understand, interpret, and generate human language in a way that is both meaningful and useful.', 'With the increasing volume of text data generated every day, from social media posts to research articles, NLP has become an essential tool for extracting valuable insights and automating various tasks.']\n"
     ]
    }
   ],
   "source": [
    "# sentence tokenization\n",
    "from nltk import sent_tokenize\n",
    "sentence_tokenized=sent_tokenize(text)\n",
    "print(sentence_tokenized)"
   ]
  },
  {
   "cell_type": "code",
   "execution_count": 3,
   "id": "3ad1342a-02ee-4a6e-9023-41a85ac8645c",
   "metadata": {},
   "outputs": [
    {
     "name": "stdout",
     "output_type": "stream",
     "text": [
      "['The', 'meaning', 'of', 'NLP', 'is', 'Natural', 'Language', 'Processing', '(', 'NLP', ')', 'which', 'is', 'a', 'fascinating', 'and', 'rapidly', 'evolving', 'field', 'that', 'intersects', 'computer', 'science', ',', 'artificial', 'intelligence', ',', 'and', 'linguistics', '.', 'NLP', 'focuses', 'on', 'the', 'interaction', 'between', 'computers', 'and', 'human', 'language', ',', 'enabling', 'machines', 'to', 'understand', ',', 'interpret', ',', 'and', 'generate', 'human', 'language', 'in', 'a', 'way', 'that', 'is', 'both', 'meaningful', 'and', 'useful', '.', 'With', 'the', 'increasing', 'volume', 'of', 'text', 'data', 'generated', 'every', 'day', ',', 'from', 'social', 'media', 'posts', 'to', 'research', 'articles', ',', 'NLP', 'has', 'become', 'an', 'essential', 'tool', 'for', 'extracting', 'valuable', 'insights', 'and', 'automating', 'various', 'tasks', '.']\n"
     ]
    }
   ],
   "source": [
    "##word tokenized\n",
    "from nltk import word_tokenize\n",
    "text_tokenized=word_tokenize(text)\n",
    "print(text_tokenized)\n"
   ]
  },
  {
   "cell_type": "code",
   "execution_count": 4,
   "id": "4343b4dd-d2b2-4885-ac1b-390b8a975b50",
   "metadata": {},
   "outputs": [
    {
     "name": "stdout",
     "output_type": "stream",
     "text": [
      "['the', 'meaning', 'of', 'nlp', 'is', 'natural', 'language', 'processing', '(', 'nlp', ')', 'which', 'is', 'a', 'fascinating', 'and', 'rapidly', 'evolving', 'field', 'that', 'intersects', 'computer', 'science', ',', 'artificial', 'intelligence', ',', 'and', 'linguistics', '.', 'nlp', 'focuses', 'on', 'the', 'interaction', 'between', 'computers', 'and', 'human', 'language', ',', 'enabling', 'machines', 'to', 'understand', ',', 'interpret', ',', 'and', 'generate', 'human', 'language', 'in', 'a', 'way', 'that', 'is', 'both', 'meaningful', 'and', 'useful', '.', 'with', 'the', 'increasing', 'volume', 'of', 'text', 'data', 'generated', 'every', 'day', ',', 'from', 'social', 'media', 'posts', 'to', 'research', 'articles', ',', 'nlp', 'has', 'become', 'an', 'essential', 'tool', 'for', 'extracting', 'valuable', 'insights', 'and', 'automating', 'various', 'tasks', '.']\n"
     ]
    }
   ],
   "source": [
    "text_tokenized=word_tokenize(text.lower())\n",
    "print(text_tokenized)\n"
   ]
  },
  {
   "cell_type": "code",
   "execution_count": 5,
   "id": "8b87f60f-3ce4-4aee-b808-3ca38aec5ec9",
   "metadata": {},
   "outputs": [
    {
     "data": {
      "text/plain": [
       "[(',', 7), ('and', 6), ('nlp', 4), ('the', 3), ('is', 3)]"
      ]
     },
     "execution_count": 5,
     "metadata": {},
     "output_type": "execute_result"
    }
   ],
   "source": [
    "##how to cheak freq distribution\n",
    "#also called punctuation\n",
    "from nltk.probability import FreqDist\n",
    "fdist=FreqDist(text_tokenized)\n",
    "fdist.most_common(5)"
   ]
  },
  {
   "cell_type": "code",
   "execution_count": 6,
   "id": "db0d1ae1-4ec3-403a-be53-c48a24fd9475",
   "metadata": {},
   "outputs": [
    {
     "data": {
      "text/plain": [
       "'!\"#$%&\\'()*+,-./:;<=>?@[\\\\]^_`{|}~'"
      ]
     },
     "execution_count": 6,
     "metadata": {},
     "output_type": "execute_result"
    }
   ],
   "source": [
    "#how to remove punctuation\n",
    "from string import punctuation\n",
    "punctuation"
   ]
  },
  {
   "cell_type": "code",
   "execution_count": 7,
   "id": "79283e4e-cedc-4f09-89ed-9773e8c07819",
   "metadata": {},
   "outputs": [
    {
     "name": "stdout",
     "output_type": "stream",
     "text": [
      "['T', 'h', 'e', ' ', 'm', 'e', 'a', 'n', 'i', 'n', 'g', ' ', 'o', 'f', ' ', 'N', 'L', 'P', ' ', 'i', 's', ' ', 'N', 'a', 't', 'u', 'r', 'a', 'l', ' ', 'L', 'a', 'n', 'g', 'u', 'a', 'g', 'e', ' ', 'P', 'r', 'o', 'c', 'e', 's', 's', 'i', 'n', 'g', ' ', 'N', 'L', 'P', ' ', 'w', 'h', 'i', 'c', 'h', ' ', 'i', 's', ' ', 'a', ' ', 'f', 'a', 's', 'c', 'i', 'n', 'a', 't', 'i', 'n', 'g', ' ', 'a', 'n', 'd', ' ', 'r', 'a', 'p', 'i', 'd', 'l', 'y', ' ', 'e', 'v', 'o', 'l', 'v', 'i', 'n', 'g', ' ', 'f', 'i', 'e', 'l', 'd', ' ', 't', 'h', 'a', 't', ' ', 'i', 'n', 't', 'e', 'r', 's', 'e', 'c', 't', 's', ' ', 'c', 'o', 'm', 'p', 'u', 't', 'e', 'r', ' ', 's', 'c', 'i', 'e', 'n', 'c', 'e', ' ', 'a', 'r', 't', 'i', 'f', 'i', 'c', 'i', 'a', 'l', ' ', 'i', 'n', 't', 'e', 'l', 'l', 'i', 'g', 'e', 'n', 'c', 'e', ' ', 'a', 'n', 'd', ' ', 'l', 'i', 'n', 'g', 'u', 'i', 's', 't', 'i', 'c', 's', ' ', 'N', 'L', 'P', ' ', 'f', 'o', 'c', 'u', 's', 'e', 's', ' ', 'o', 'n', ' ', 't', 'h', 'e', ' ', 'i', 'n', 't', 'e', 'r', 'a', 'c', 't', 'i', 'o', 'n', ' ', 'b', 'e', 't', 'w', 'e', 'e', 'n', ' ', 'c', 'o', 'm', 'p', 'u', 't', 'e', 'r', 's', ' ', 'a', 'n', 'd', ' ', 'h', 'u', 'm', 'a', 'n', ' ', 'l', 'a', 'n', 'g', 'u', 'a', 'g', 'e', ' ', 'e', 'n', 'a', 'b', 'l', 'i', 'n', 'g', ' ', 'm', 'a', 'c', 'h', 'i', 'n', 'e', 's', ' ', 't', 'o', ' ', 'u', 'n', 'd', 'e', 'r', 's', 't', 'a', 'n', 'd', ' ', 'i', 'n', 't', 'e', 'r', 'p', 'r', 'e', 't', ' ', 'a', 'n', 'd', ' ', 'g', 'e', 'n', 'e', 'r', 'a', 't', 'e', ' ', 'h', 'u', 'm', 'a', 'n', ' ', 'l', 'a', 'n', 'g', 'u', 'a', 'g', 'e', ' ', 'i', 'n', ' ', 'a', ' ', 'w', 'a', 'y', ' ', 't', 'h', 'a', 't', ' ', 'i', 's', ' ', 'b', 'o', 't', 'h', ' ', 'm', 'e', 'a', 'n', 'i', 'n', 'g', 'f', 'u', 'l', ' ', 'a', 'n', 'd', ' ', 'u', 's', 'e', 'f', 'u', 'l', ' ', 'W', 'i', 't', 'h', ' ', 't', 'h', 'e', ' ', 'i', 'n', 'c', 'r', 'e', 'a', 's', 'i', 'n', 'g', ' ', 'v', 'o', 'l', 'u', 'm', 'e', ' ', 'o', 'f', ' ', 't', 'e', 'x', 't', ' ', 'd', 'a', 't', 'a', ' ', 'g', 'e', 'n', 'e', 'r', 'a', 't', 'e', 'd', ' ', 'e', 'v', 'e', 'r', 'y', ' ', 'd', 'a', 'y', ' ', 'f', 'r', 'o', 'm', ' ', 's', 'o', 'c', 'i', 'a', 'l', ' ', 'm', 'e', 'd', 'i', 'a', ' ', 'p', 'o', 's', 't', 's', ' ', 't', 'o', ' ', 'r', 'e', 's', 'e', 'a', 'r', 'c', 'h', ' ', 'a', 'r', 't', 'i', 'c', 'l', 'e', 's', ' ', 'N', 'L', 'P', ' ', 'h', 'a', 's', ' ', 'b', 'e', 'c', 'o', 'm', 'e', ' ', 'a', 'n', ' ', 'e', 's', 's', 'e', 'n', 't', 'i', 'a', 'l', ' ', 't', 'o', 'o', 'l', ' ', 'f', 'o', 'r', ' ', 'e', 'x', 't', 'r', 'a', 'c', 't', 'i', 'n', 'g', ' ', 'v', 'a', 'l', 'u', 'a', 'b', 'l', 'e', ' ', 'i', 'n', 's', 'i', 'g', 'h', 't', 's', ' ', 'a', 'n', 'd', ' ', 'a', 'u', 't', 'o', 'm', 'a', 't', 'i', 'n', 'g', ' ', 'v', 'a', 'r', 'i', 'o', 'u', 's', ' ', 't', 'a', 's', 'k', 's', '\\n']\n"
     ]
    }
   ],
   "source": [
    "text_clean=[char for char in text if char not in punctuation]\n",
    "print(text_clean)"
   ]
  },
  {
   "cell_type": "code",
   "execution_count": 8,
   "id": "bbdb8f99-025d-4cf4-a418-1459f78a0edc",
   "metadata": {},
   "outputs": [
    {
     "name": "stdout",
     "output_type": "stream",
     "text": [
      "The meaning of NLP is Natural Language Processing NLP which is a fascinating and rapidly evolving field that intersects computer science artificial intelligence and linguistics NLP focuses on the interaction between computers and human language enabling machines to understand interpret and generate human language in a way that is both meaningful and useful With the increasing volume of text data generated every day from social media posts to research articles NLP has become an essential tool for extracting valuable insights and automating various tasks\n",
      "\n"
     ]
    }
   ],
   "source": [
    "#list convert into string\n",
    "text_clean=\"\".join([char for char in text if char not in punctuation])\n",
    "print(text_clean)"
   ]
  },
  {
   "cell_type": "code",
   "execution_count": 9,
   "id": "d7d3e522-8baa-423d-9da8-3d24f7d76be1",
   "metadata": {},
   "outputs": [
    {
     "name": "stdout",
     "output_type": "stream",
     "text": [
      "['i', 'me', 'my', 'myself', 'we', 'our', 'ours', 'ourselves', 'you', \"you're\", \"you've\", \"you'll\", \"you'd\", 'your', 'yours', 'yourself', 'yourselves', 'he', 'him', 'his', 'himself', 'she', \"she's\", 'her', 'hers', 'herself', 'it', \"it's\", 'its', 'itself', 'they', 'them', 'their', 'theirs', 'themselves', 'what', 'which', 'who', 'whom', 'this', 'that', \"that'll\", 'these', 'those', 'am', 'is', 'are', 'was', 'were', 'be', 'been', 'being', 'have', 'has', 'had', 'having', 'do', 'does', 'did', 'doing', 'a', 'an', 'the', 'and', 'but', 'if', 'or', 'because', 'as', 'until', 'while', 'of', 'at', 'by', 'for', 'with', 'about', 'against', 'between', 'into', 'through', 'during', 'before', 'after', 'above', 'below', 'to', 'from', 'up', 'down', 'in', 'out', 'on', 'off', 'over', 'under', 'again', 'further', 'then', 'once', 'here', 'there', 'when', 'where', 'why', 'how', 'all', 'any', 'both', 'each', 'few', 'more', 'most', 'other', 'some', 'such', 'no', 'nor', 'not', 'only', 'own', 'same', 'so', 'than', 'too', 'very', 's', 't', 'can', 'will', 'just', 'don', \"don't\", 'should', \"should've\", 'now', 'd', 'll', 'm', 'o', 're', 've', 'y', 'ain', 'aren', \"aren't\", 'couldn', \"couldn't\", 'didn', \"didn't\", 'doesn', \"doesn't\", 'hadn', \"hadn't\", 'hasn', \"hasn't\", 'haven', \"haven't\", 'isn', \"isn't\", 'ma', 'mightn', \"mightn't\", 'mustn', \"mustn't\", 'needn', \"needn't\", 'shan', \"shan't\", 'shouldn', \"shouldn't\", 'wasn', \"wasn't\", 'weren', \"weren't\", 'won', \"won't\", 'wouldn', \"wouldn't\"]\n"
     ]
    }
   ],
   "source": [
    "#how to know type of stopwords\n",
    "from nltk.corpus import stopwords\n",
    "stopwords=stopwords.words('english')\n",
    "print(stopwords)\n"
   ]
  },
  {
   "cell_type": "code",
   "execution_count": 10,
   "id": "78348f68-b394-45f6-86b7-0f9b820bd90f",
   "metadata": {},
   "outputs": [
    {
     "name": "stdout",
     "output_type": "stream",
     "text": [
      "['meaning', 'nlp', 'natural', 'language', 'processing', '(', 'nlp', ')', 'fascinating', 'rapidly', 'evolving', 'field', 'intersects', 'computer', 'science', ',', 'artificial', 'intelligence', ',', 'linguistics', '.', 'nlp', 'focuses', 'interaction', 'computers', 'human', 'language', ',', 'enabling', 'machines', 'understand', ',', 'interpret', ',', 'generate', 'human', 'language', 'way', 'meaningful', 'useful', '.', 'increasing', 'volume', 'text', 'data', 'generated', 'every', 'day', ',', 'social', 'media', 'posts', 'research', 'articles', ',', 'nlp', 'become', 'essential', 'tool', 'extracting', 'valuable', 'insights', 'automating', 'various', 'tasks', '.']\n"
     ]
    }
   ],
   "source": [
    "#how to remove stopwords\n",
    "text_nostopword=[char for char in text_tokenized if char not in stopwords]\n",
    "print(text_nostopword)\n"
   ]
  },
  {
   "cell_type": "code",
   "execution_count": 11,
   "id": "e330dced-f3f2-4de5-9b45-fb7224c12853",
   "metadata": {},
   "outputs": [
    {
     "name": "stdout",
     "output_type": "stream",
     "text": [
      "['meaning', 'nlp', 'natural', 'language', 'processing', 'nlp', 'fascinating', 'rapidly', 'evolving', 'field', 'intersects', 'computer', 'science', 'artificial', 'intelligence', 'linguistics', 'nlp', 'focuses', 'interaction', 'computers', 'human', 'language', 'enabling', 'machines', 'understand', 'interpret', 'generate', 'human', 'language', 'way', 'meaningful', 'useful', 'increasing', 'volume', 'text', 'data', 'generated', 'every', 'day', 'social', 'media', 'posts', 'research', 'articles', 'nlp', 'become', 'essential', 'tool', 'extracting', 'valuable', 'insights', 'automating', 'various', 'tasks']\n"
     ]
    }
   ],
   "source": [
    "#clean test\n",
    "\n",
    "def clean_text(text):\n",
    "    text=\"\".join([char for char in text if char not in punctuation])    #punctuation remove\n",
    "    tokens= word_tokenize(text.lower())                         #tokenize in lower case \n",
    "    text=[word for word in tokens if word not in stopwords]     #to remove stopwords\n",
    "    return text\n",
    "\n",
    "print(clean_text(text))\n",
    "    "
   ]
  },
  {
   "cell_type": "code",
   "execution_count": 12,
   "id": "85e301a0-feb3-4ed7-adf0-f1cf6f2439cd",
   "metadata": {},
   "outputs": [
    {
     "name": "stdout",
     "output_type": "stream",
     "text": [
      "['love', 'nlp', 'love', 'dog']\n"
     ]
    }
   ],
   "source": [
    "#example\n",
    "print(clean_text(\"i love nlp, i love dog\"))"
   ]
  },
  {
   "cell_type": "markdown",
   "id": "53ac7d3c-13eb-47d1-b73f-c47224264db5",
   "metadata": {},
   "source": [
    "# stemmer"
   ]
  },
  {
   "cell_type": "code",
   "execution_count": 13,
   "id": "b9fbe2a3-1368-4f1b-b2cf-23b84cfd6c69",
   "metadata": {},
   "outputs": [],
   "source": [
    "words= clean_text(text)"
   ]
  },
  {
   "cell_type": "code",
   "execution_count": 14,
   "id": "4a10575b-5262-4123-a982-c2006c12d4d0",
   "metadata": {},
   "outputs": [],
   "source": [
    "from nltk.stem import PorterStemmer\n",
    "ps=PorterStemmer()\n"
   ]
  },
  {
   "cell_type": "code",
   "execution_count": 15,
   "id": "501a9968-9b18-4fa7-ad9f-74374ec667ce",
   "metadata": {},
   "outputs": [
    {
     "name": "stdout",
     "output_type": "stream",
     "text": [
      "mean\n",
      "nlp\n",
      "natur\n",
      "languag\n",
      "process\n",
      "nlp\n",
      "fascin\n",
      "rapidli\n",
      "evolv\n",
      "field\n",
      "intersect\n",
      "comput\n",
      "scienc\n",
      "artifici\n",
      "intellig\n",
      "linguist\n",
      "nlp\n",
      "focus\n",
      "interact\n",
      "comput\n",
      "human\n",
      "languag\n",
      "enabl\n",
      "machin\n",
      "understand\n",
      "interpret\n",
      "gener\n",
      "human\n",
      "languag\n",
      "way\n",
      "meaning\n",
      "use\n",
      "increas\n",
      "volum\n",
      "text\n",
      "data\n",
      "gener\n",
      "everi\n",
      "day\n",
      "social\n",
      "media\n",
      "post\n",
      "research\n",
      "articl\n",
      "nlp\n",
      "becom\n",
      "essenti\n",
      "tool\n",
      "extract\n",
      "valuabl\n",
      "insight\n",
      "autom\n",
      "variou\n",
      "task\n"
     ]
    }
   ],
   "source": [
    "for word in words:\n",
    "    print(ps.stem(word))"
   ]
  },
  {
   "cell_type": "markdown",
   "id": "37f02b7e-6289-46d8-b7f5-365bb5ad6f02",
   "metadata": {},
   "source": [
    "# lemmatization"
   ]
  },
  {
   "cell_type": "code",
   "execution_count": 16,
   "id": "10e843e9-31c1-47ff-891f-56dcf42240ac",
   "metadata": {},
   "outputs": [],
   "source": [
    "from nltk import WordNetLemmatizer\n",
    "lem = WordNetLemmatizer()"
   ]
  },
  {
   "cell_type": "code",
   "execution_count": 17,
   "id": "b762ebc1-e77e-495b-9194-e68b580ca94d",
   "metadata": {},
   "outputs": [
    {
     "name": "stdout",
     "output_type": "stream",
     "text": [
      "meaning\n",
      "nlp\n",
      "natural\n",
      "language\n",
      "processing\n",
      "nlp\n",
      "fascinating\n",
      "rapidly\n",
      "evolving\n",
      "field\n",
      "intersects\n",
      "computer\n",
      "science\n",
      "artificial\n",
      "intelligence\n",
      "linguistics\n",
      "nlp\n",
      "focus\n",
      "interaction\n",
      "computer\n",
      "human\n",
      "language\n",
      "enabling\n",
      "machine\n",
      "understand\n",
      "interpret\n",
      "generate\n",
      "human\n",
      "language\n",
      "way\n",
      "meaningful\n",
      "useful\n",
      "increasing\n",
      "volume\n",
      "text\n",
      "data\n",
      "generated\n",
      "every\n",
      "day\n",
      "social\n",
      "medium\n",
      "post\n",
      "research\n",
      "article\n",
      "nlp\n",
      "become\n",
      "essential\n",
      "tool\n",
      "extracting\n",
      "valuable\n",
      "insight\n",
      "automating\n",
      "various\n",
      "task\n"
     ]
    }
   ],
   "source": [
    "for word in words:\n",
    "    print(lem.lemmatize(word))\n"
   ]
  },
  {
   "cell_type": "code",
   "execution_count": 18,
   "id": "e4ec9cd7-5c81-4f2c-96b6-fcd37ebdca97",
   "metadata": {},
   "outputs": [
    {
     "name": "stdout",
     "output_type": "stream",
     "text": [
      "mean\n",
      "nlp\n",
      "natural\n",
      "language\n",
      "process\n",
      "nlp\n",
      "fascinate\n",
      "rapidly\n",
      "evolve\n",
      "field\n",
      "intersect\n",
      "computer\n",
      "science\n",
      "artificial\n",
      "intelligence\n",
      "linguistics\n",
      "nlp\n",
      "focus\n",
      "interaction\n",
      "computers\n",
      "human\n",
      "language\n",
      "enable\n",
      "machine\n",
      "understand\n",
      "interpret\n",
      "generate\n",
      "human\n",
      "language\n",
      "way\n",
      "meaningful\n",
      "useful\n",
      "increase\n",
      "volume\n",
      "text\n",
      "data\n",
      "generate\n",
      "every\n",
      "day\n",
      "social\n",
      "media\n",
      "post\n",
      "research\n",
      "article\n",
      "nlp\n",
      "become\n",
      "essential\n",
      "tool\n",
      "extract\n",
      "valuable\n",
      "insights\n",
      "automate\n",
      "various\n",
      "task\n"
     ]
    }
   ],
   "source": [
    "for word in words:\n",
    "    print(lem.lemmatize(word, pos='v'))\n"
   ]
  },
  {
   "cell_type": "markdown",
   "id": "6cc90343-178b-4762-ba44-a2213e6a6da1",
   "metadata": {},
   "source": [
    "# POS Tagging=parts of speech"
   ]
  },
  {
   "cell_type": "code",
   "execution_count": 19,
   "id": "a5cca5ca-5bb3-470e-a1cb-561580067a1f",
   "metadata": {},
   "outputs": [
    {
     "name": "stdout",
     "output_type": "stream",
     "text": [
      "['the', 'meaning', 'of', 'nlp', 'is', 'natural', 'language', 'processing', '(', 'nlp', ')', 'which', 'is', 'a', 'fascinating', 'and', 'rapidly', 'evolving', 'field', 'that', 'intersects', 'computer', 'science', ',', 'artificial', 'intelligence', ',', 'and', 'linguistics', '.', 'nlp', 'focuses', 'on', 'the', 'interaction', 'between', 'computers', 'and', 'human', 'language', ',', 'enabling', 'machines', 'to', 'understand', ',', 'interpret', ',', 'and', 'generate', 'human', 'language', 'in', 'a', 'way', 'that', 'is', 'both', 'meaningful', 'and', 'useful', '.', 'with', 'the', 'increasing', 'volume', 'of', 'text', 'data', 'generated', 'every', 'day', ',', 'from', 'social', 'media', 'posts', 'to', 'research', 'articles', ',', 'nlp', 'has', 'become', 'an', 'essential', 'tool', 'for', 'extracting', 'valuable', 'insights', 'and', 'automating', 'various', 'tasks', '.']\n"
     ]
    }
   ],
   "source": [
    "print(text_tokenized)"
   ]
  },
  {
   "cell_type": "code",
   "execution_count": 20,
   "id": "60df70d5-d699-4eb5-a07c-8d313023034d",
   "metadata": {},
   "outputs": [
    {
     "name": "stdout",
     "output_type": "stream",
     "text": [
      "[('the', 'DT'), ('meaning', 'NN'), ('of', 'IN'), ('nlp', 'NN'), ('is', 'VBZ'), ('natural', 'JJ'), ('language', 'NN'), ('processing', 'NN'), ('(', '('), ('nlp', 'NN'), (')', ')'), ('which', 'WDT'), ('is', 'VBZ'), ('a', 'DT'), ('fascinating', 'JJ'), ('and', 'CC'), ('rapidly', 'RB'), ('evolving', 'VBG'), ('field', 'NN'), ('that', 'WDT'), ('intersects', 'VBZ'), ('computer', 'NN'), ('science', 'NN'), (',', ','), ('artificial', 'JJ'), ('intelligence', 'NN'), (',', ','), ('and', 'CC'), ('linguistics', 'NNS'), ('.', '.'), ('nlp', 'JJ'), ('focuses', 'NNS'), ('on', 'IN'), ('the', 'DT'), ('interaction', 'NN'), ('between', 'IN'), ('computers', 'NNS'), ('and', 'CC'), ('human', 'JJ'), ('language', 'NN'), (',', ','), ('enabling', 'VBG'), ('machines', 'NNS'), ('to', 'TO'), ('understand', 'VB'), (',', ','), ('interpret', 'VB'), (',', ','), ('and', 'CC'), ('generate', 'VB'), ('human', 'JJ'), ('language', 'NN'), ('in', 'IN'), ('a', 'DT'), ('way', 'NN'), ('that', 'WDT'), ('is', 'VBZ'), ('both', 'DT'), ('meaningful', 'JJ'), ('and', 'CC'), ('useful', 'JJ'), ('.', '.'), ('with', 'IN'), ('the', 'DT'), ('increasing', 'VBG'), ('volume', 'NN'), ('of', 'IN'), ('text', 'NN'), ('data', 'NNS'), ('generated', 'VBD'), ('every', 'DT'), ('day', 'NN'), (',', ','), ('from', 'IN'), ('social', 'JJ'), ('media', 'NNS'), ('posts', 'NNS'), ('to', 'TO'), ('research', 'NN'), ('articles', 'NNS'), (',', ','), ('nlp', 'NN'), ('has', 'VBZ'), ('become', 'VBN'), ('an', 'DT'), ('essential', 'JJ'), ('tool', 'NN'), ('for', 'IN'), ('extracting', 'VBG'), ('valuable', 'JJ'), ('insights', 'NNS'), ('and', 'CC'), ('automating', 'VBG'), ('various', 'JJ'), ('tasks', 'NNS'), ('.', '.')]\n"
     ]
    }
   ],
   "source": [
    "from nltk.tag import pos_tag\n",
    "pos_tags=pos_tag(text_tokenized)\n",
    "print(pos_tags)"
   ]
  },
  {
   "cell_type": "code",
   "execution_count": 21,
   "id": "a272357a-c89d-4f9f-b783-ad416f562dcb",
   "metadata": {},
   "outputs": [
    {
     "name": "stderr",
     "output_type": "stream",
     "text": [
      "[nltk_data] Downloading package tagsets to\n",
      "[nltk_data]     C:\\Users\\ayasa\\AppData\\Roaming\\nltk_data...\n",
      "[nltk_data]   Package tagsets is already up-to-date!\n"
     ]
    },
    {
     "data": {
      "text/plain": [
       "True"
      ]
     },
     "execution_count": 21,
     "metadata": {},
     "output_type": "execute_result"
    }
   ],
   "source": [
    "import nltk\n",
    "nltk.download('tagsets')"
   ]
  },
  {
   "cell_type": "code",
   "execution_count": 22,
   "id": "ba504165-1298-4b31-b380-fd63a0cbdc17",
   "metadata": {},
   "outputs": [
    {
     "name": "stdout",
     "output_type": "stream",
     "text": [
      "DT: determiner\n",
      "    all an another any both del each either every half la many much nary\n",
      "    neither no some such that the them these this those\n"
     ]
    }
   ],
   "source": [
    "import nltk\n",
    "nltk.help.upenn_tagset('DT')"
   ]
  },
  {
   "cell_type": "code",
   "execution_count": 23,
   "id": "d7a9097c-aa2b-4a70-be46-92b92f02c760",
   "metadata": {},
   "outputs": [
    {
     "name": "stdout",
     "output_type": "stream",
     "text": [
      "$: dollar\n",
      "    $ -$ --$ A$ C$ HK$ M$ NZ$ S$ U.S.$ US$\n",
      "'': closing quotation mark\n",
      "    ' ''\n",
      "(: opening parenthesis\n",
      "    ( [ {\n",
      "): closing parenthesis\n",
      "    ) ] }\n",
      ",: comma\n",
      "    ,\n",
      "--: dash\n",
      "    --\n",
      ".: sentence terminator\n",
      "    . ! ?\n",
      ":: colon or ellipsis\n",
      "    : ; ...\n",
      "CC: conjunction, coordinating\n",
      "    & 'n and both but either et for less minus neither nor or plus so\n",
      "    therefore times v. versus vs. whether yet\n",
      "CD: numeral, cardinal\n",
      "    mid-1890 nine-thirty forty-two one-tenth ten million 0.5 one forty-\n",
      "    seven 1987 twenty '79 zero two 78-degrees eighty-four IX '60s .025\n",
      "    fifteen 271,124 dozen quintillion DM2,000 ...\n",
      "DT: determiner\n",
      "    all an another any both del each either every half la many much nary\n",
      "    neither no some such that the them these this those\n",
      "EX: existential there\n",
      "    there\n",
      "FW: foreign word\n",
      "    gemeinschaft hund ich jeux habeas Haementeria Herr K'ang-si vous\n",
      "    lutihaw alai je jour objets salutaris fille quibusdam pas trop Monte\n",
      "    terram fiche oui corporis ...\n",
      "IN: preposition or conjunction, subordinating\n",
      "    astride among uppon whether out inside pro despite on by throughout\n",
      "    below within for towards near behind atop around if like until below\n",
      "    next into if beside ...\n",
      "JJ: adjective or numeral, ordinal\n",
      "    third ill-mannered pre-war regrettable oiled calamitous first separable\n",
      "    ectoplasmic battery-powered participatory fourth still-to-be-named\n",
      "    multilingual multi-disciplinary ...\n",
      "JJR: adjective, comparative\n",
      "    bleaker braver breezier briefer brighter brisker broader bumper busier\n",
      "    calmer cheaper choosier cleaner clearer closer colder commoner costlier\n",
      "    cozier creamier crunchier cuter ...\n",
      "JJS: adjective, superlative\n",
      "    calmest cheapest choicest classiest cleanest clearest closest commonest\n",
      "    corniest costliest crassest creepiest crudest cutest darkest deadliest\n",
      "    dearest deepest densest dinkiest ...\n",
      "LS: list item marker\n",
      "    A A. B B. C C. D E F First G H I J K One SP-44001 SP-44002 SP-44005\n",
      "    SP-44007 Second Third Three Two * a b c d first five four one six three\n",
      "    two\n",
      "MD: modal auxiliary\n",
      "    can cannot could couldn't dare may might must need ought shall should\n",
      "    shouldn't will would\n",
      "NN: noun, common, singular or mass\n",
      "    common-carrier cabbage knuckle-duster Casino afghan shed thermostat\n",
      "    investment slide humour falloff slick wind hyena override subhumanity\n",
      "    machinist ...\n",
      "NNP: noun, proper, singular\n",
      "    Motown Venneboerger Czestochwa Ranzer Conchita Trumplane Christos\n",
      "    Oceanside Escobar Kreisler Sawyer Cougar Yvette Ervin ODI Darryl CTCA\n",
      "    Shannon A.K.C. Meltex Liverpool ...\n",
      "NNPS: noun, proper, plural\n",
      "    Americans Americas Amharas Amityvilles Amusements Anarcho-Syndicalists\n",
      "    Andalusians Andes Andruses Angels Animals Anthony Antilles Antiques\n",
      "    Apache Apaches Apocrypha ...\n",
      "NNS: noun, common, plural\n",
      "    undergraduates scotches bric-a-brac products bodyguards facets coasts\n",
      "    divestitures storehouses designs clubs fragrances averages\n",
      "    subjectivists apprehensions muses factory-jobs ...\n",
      "PDT: pre-determiner\n",
      "    all both half many quite such sure this\n",
      "POS: genitive marker\n",
      "    ' 's\n",
      "PRP: pronoun, personal\n",
      "    hers herself him himself hisself it itself me myself one oneself ours\n",
      "    ourselves ownself self she thee theirs them themselves they thou thy us\n",
      "PRP$: pronoun, possessive\n",
      "    her his mine my our ours their thy your\n",
      "RB: adverb\n",
      "    occasionally unabatingly maddeningly adventurously professedly\n",
      "    stirringly prominently technologically magisterially predominately\n",
      "    swiftly fiscally pitilessly ...\n",
      "RBR: adverb, comparative\n",
      "    further gloomier grander graver greater grimmer harder harsher\n",
      "    healthier heavier higher however larger later leaner lengthier less-\n",
      "    perfectly lesser lonelier longer louder lower more ...\n",
      "RBS: adverb, superlative\n",
      "    best biggest bluntest earliest farthest first furthest hardest\n",
      "    heartiest highest largest least less most nearest second tightest worst\n",
      "RP: particle\n",
      "    aboard about across along apart around aside at away back before behind\n",
      "    by crop down ever fast for forth from go high i.e. in into just later\n",
      "    low more off on open out over per pie raising start teeth that through\n",
      "    under unto up up-pp upon whole with you\n",
      "SYM: symbol\n",
      "    % & ' '' ''. ) ). * + ,. < = > @ A[fj] U.S U.S.S.R * ** ***\n",
      "TO: \"to\" as preposition or infinitive marker\n",
      "    to\n",
      "UH: interjection\n",
      "    Goodbye Goody Gosh Wow Jeepers Jee-sus Hubba Hey Kee-reist Oops amen\n",
      "    huh howdy uh dammit whammo shucks heck anyways whodunnit honey golly\n",
      "    man baby diddle hush sonuvabitch ...\n",
      "VB: verb, base form\n",
      "    ask assemble assess assign assume atone attention avoid bake balkanize\n",
      "    bank begin behold believe bend benefit bevel beware bless boil bomb\n",
      "    boost brace break bring broil brush build ...\n",
      "VBD: verb, past tense\n",
      "    dipped pleaded swiped regummed soaked tidied convened halted registered\n",
      "    cushioned exacted snubbed strode aimed adopted belied figgered\n",
      "    speculated wore appreciated contemplated ...\n",
      "VBG: verb, present participle or gerund\n",
      "    telegraphing stirring focusing angering judging stalling lactating\n",
      "    hankerin' alleging veering capping approaching traveling besieging\n",
      "    encrypting interrupting erasing wincing ...\n",
      "VBN: verb, past participle\n",
      "    multihulled dilapidated aerosolized chaired languished panelized used\n",
      "    experimented flourished imitated reunifed factored condensed sheared\n",
      "    unsettled primed dubbed desired ...\n",
      "VBP: verb, present tense, not 3rd person singular\n",
      "    predominate wrap resort sue twist spill cure lengthen brush terminate\n",
      "    appear tend stray glisten obtain comprise detest tease attract\n",
      "    emphasize mold postpone sever return wag ...\n",
      "VBZ: verb, present tense, 3rd person singular\n",
      "    bases reconstructs marks mixes displeases seals carps weaves snatches\n",
      "    slumps stretches authorizes smolders pictures emerges stockpiles\n",
      "    seduces fizzes uses bolsters slaps speaks pleads ...\n",
      "WDT: WH-determiner\n",
      "    that what whatever which whichever\n",
      "WP: WH-pronoun\n",
      "    that what whatever whatsoever which who whom whosoever\n",
      "WP$: WH-pronoun, possessive\n",
      "    whose\n",
      "WRB: Wh-adverb\n",
      "    how however whence whenever where whereby whereever wherein whereof why\n",
      "``: opening quotation mark\n",
      "    ` ``\n"
     ]
    }
   ],
   "source": [
    "nltk.help.upenn_tagset('')"
   ]
  },
  {
   "cell_type": "code",
   "execution_count": 24,
   "id": "ab3a5205-a36d-4737-9260-8b90f46a8946",
   "metadata": {},
   "outputs": [
    {
     "name": "stdout",
     "output_type": "stream",
     "text": [
      "[('I', 'PRP'), ('live', 'VBP'), ('in', 'IN'), ('india', 'NN')]\n"
     ]
    }
   ],
   "source": [
    "#example\n",
    "text1=\"I live in india\"\n",
    "text1_token=word_tokenize(text1)\n",
    "pos_tags1=pos_tag(text1_token)\n",
    "print(pos_tags1)"
   ]
  },
  {
   "cell_type": "markdown",
   "id": "42ebd092-0e1a-4cd3-b2cf-fb7a270f6848",
   "metadata": {},
   "source": [
    "# Named Entities\n",
    "(specific objects: person,location,organization,data and time,quantity etc...)"
   ]
  },
  {
   "cell_type": "code",
   "execution_count": 25,
   "id": "1eae981c-e892-4182-993e-481d1e8e8ed2",
   "metadata": {},
   "outputs": [
    {
     "name": "stdout",
     "output_type": "stream",
     "text": [
      "(S\n",
      "  the/DT\n",
      "  meaning/NN\n",
      "  of/IN\n",
      "  nlp/NN\n",
      "  is/VBZ\n",
      "  natural/JJ\n",
      "  language/NN\n",
      "  processing/NN\n",
      "  (/(\n",
      "  nlp/NN\n",
      "  )/)\n",
      "  which/WDT\n",
      "  is/VBZ\n",
      "  a/DT\n",
      "  fascinating/JJ\n",
      "  and/CC\n",
      "  rapidly/RB\n",
      "  evolving/VBG\n",
      "  field/NN\n",
      "  that/WDT\n",
      "  intersects/VBZ\n",
      "  computer/NN\n",
      "  science/NN\n",
      "  ,/,\n",
      "  artificial/JJ\n",
      "  intelligence/NN\n",
      "  ,/,\n",
      "  and/CC\n",
      "  linguistics/NNS\n",
      "  ./.\n",
      "  nlp/JJ\n",
      "  focuses/NNS\n",
      "  on/IN\n",
      "  the/DT\n",
      "  interaction/NN\n",
      "  between/IN\n",
      "  computers/NNS\n",
      "  and/CC\n",
      "  human/JJ\n",
      "  language/NN\n",
      "  ,/,\n",
      "  enabling/VBG\n",
      "  machines/NNS\n",
      "  to/TO\n",
      "  understand/VB\n",
      "  ,/,\n",
      "  interpret/VB\n",
      "  ,/,\n",
      "  and/CC\n",
      "  generate/VB\n",
      "  human/JJ\n",
      "  language/NN\n",
      "  in/IN\n",
      "  a/DT\n",
      "  way/NN\n",
      "  that/WDT\n",
      "  is/VBZ\n",
      "  both/DT\n",
      "  meaningful/JJ\n",
      "  and/CC\n",
      "  useful/JJ\n",
      "  ./.\n",
      "  with/IN\n",
      "  the/DT\n",
      "  increasing/VBG\n",
      "  volume/NN\n",
      "  of/IN\n",
      "  text/NN\n",
      "  data/NNS\n",
      "  generated/VBD\n",
      "  every/DT\n",
      "  day/NN\n",
      "  ,/,\n",
      "  from/IN\n",
      "  social/JJ\n",
      "  media/NNS\n",
      "  posts/NNS\n",
      "  to/TO\n",
      "  research/NN\n",
      "  articles/NNS\n",
      "  ,/,\n",
      "  nlp/NN\n",
      "  has/VBZ\n",
      "  become/VBN\n",
      "  an/DT\n",
      "  essential/JJ\n",
      "  tool/NN\n",
      "  for/IN\n",
      "  extracting/VBG\n",
      "  valuable/JJ\n",
      "  insights/NNS\n",
      "  and/CC\n",
      "  automating/VBG\n",
      "  various/JJ\n",
      "  tasks/NNS\n",
      "  ./.)\n"
     ]
    }
   ],
   "source": [
    "named_entities=nltk.ne_chunk(pos_tags, binary=True)\n",
    "print(named_entities)"
   ]
  },
  {
   "cell_type": "code",
   "execution_count": 26,
   "id": "2feb3c0c-8e96-49d7-a5eb-dbf9a22760af",
   "metadata": {},
   "outputs": [
    {
     "name": "stdout",
     "output_type": "stream",
     "text": [
      "(S (GPE Rahul/NNP) live/VBP in/IN india/NN)\n"
     ]
    }
   ],
   "source": [
    "#example\n",
    "text2=\"Rahul live in india\"\n",
    "text2_token=word_tokenize(text2)\n",
    "pos_tags2=pos_tag(text2_token)\n",
    "named_entities2=nltk.ne_chunk(pos_tags2, binary=False)\n",
    "print(named_entities2)"
   ]
  },
  {
   "cell_type": "markdown",
   "id": "744e2a50-2c86-4a43-8f0e-97809fbc5676",
   "metadata": {},
   "source": [
    "# spacy"
   ]
  },
  {
   "cell_type": "code",
   "execution_count": 27,
   "id": "0c8db8f1-434e-461b-bfe6-2616b789f3e9",
   "metadata": {},
   "outputs": [
    {
     "name": "stdout",
     "output_type": "stream",
     "text": [
      "NLP - ORG\n",
      "Natural Language Processing - ORG\n",
      "NLP - ORG\n",
      "NLP - ORG\n",
      "every day - DATE\n",
      "NLP - ORG\n"
     ]
    }
   ],
   "source": [
    "import spacy\n",
    "nlp=spacy.load('en_core_web_sm')\n",
    "doc = nlp(text)\n",
    "\n",
    "for ent in doc.ents:\n",
    "    print(ent.text,'-', ent.label_)"
   ]
  },
  {
   "cell_type": "code",
   "execution_count": 28,
   "id": "bc3039f5-cda5-4b45-bf86-927df14f5038",
   "metadata": {},
   "outputs": [
    {
     "name": "stdout",
     "output_type": "stream",
     "text": [
      "the Indian National Committee for Space Research (INCOSPAR - ORG\n",
      "the Government of India - ORG\n",
      "1962 - DATE\n"
     ]
    }
   ],
   "source": [
    "#example\n",
    "text3=\"ISRO was previously the Indian National Committee for Space Research (INCOSPAR), set up by the Government of India in 1962\"\n",
    "doc = nlp(text3)\n",
    "\n",
    "for ent in doc.ents:\n",
    "    print(ent.text,'-', ent.label_)"
   ]
  },
  {
   "cell_type": "markdown",
   "id": "6b9a33af-edee-41c8-ae48-0f2143f1bc72",
   "metadata": {},
   "source": [
    "### BAG OF WORDS(BOWS)"
   ]
  },
  {
   "cell_type": "code",
   "execution_count": 29,
   "id": "2963610a-2adc-4ae7-b9d7-47aacaf80167",
   "metadata": {},
   "outputs": [],
   "source": [
    "sentences= [\n",
    "    \"Ayesha and Uttam traveled by bus.\",\n",
    "    \"The train was late.\",\n",
    "    \"The flight was full.traveling by flight is expensive.\"\n",
    "]"
   ]
  },
  {
   "cell_type": "code",
   "execution_count": 30,
   "id": "98d0975a-346b-4c45-8a8e-0b15b66cb939",
   "metadata": {},
   "outputs": [],
   "source": [
    "from sklearn.feature_extraction.text import CountVectorizer"
   ]
  },
  {
   "cell_type": "code",
   "execution_count": 31,
   "id": "feb42757-6bb8-4067-a2a7-39fab61af33f",
   "metadata": {},
   "outputs": [],
   "source": [
    "vectorizer=CountVectorizer()\n",
    "# transform the sentences into a document-term matrix\n",
    "x=vectorizer.fit_transform(sentences)"
   ]
  },
  {
   "cell_type": "code",
   "execution_count": 32,
   "id": "5ddba282-57ba-4eeb-b224-bd75743f5c6f",
   "metadata": {},
   "outputs": [
    {
     "name": "stdout",
     "output_type": "stream",
     "text": [
      "['and' 'ayesha' 'bus' 'by' 'expensive' 'flight' 'full' 'is' 'late' 'the'\n",
      " 'train' 'traveled' 'traveling' 'uttam' 'was']\n"
     ]
    }
   ],
   "source": [
    "#get the vacubalary (List of words)\n",
    "vocab=vectorizer.get_feature_names_out()\n",
    "print(vocab)"
   ]
  },
  {
   "cell_type": "code",
   "execution_count": 33,
   "id": "db36fc99-4a76-4488-ae11-32cd29142d34",
   "metadata": {},
   "outputs": [
    {
     "data": {
      "text/plain": [
       "array([[1, 1, 1, 1, 0, 0, 0, 0, 0, 0, 0, 1, 0, 1, 0],\n",
       "       [0, 0, 0, 0, 0, 0, 0, 0, 1, 1, 1, 0, 0, 0, 1],\n",
       "       [0, 0, 0, 1, 1, 2, 1, 1, 0, 1, 0, 0, 1, 0, 1]], dtype=int64)"
      ]
     },
     "execution_count": 33,
     "metadata": {},
     "output_type": "execute_result"
    }
   ],
   "source": [
    "#list convert in array\n",
    "x_array=x.toarray()\n",
    "x_array"
   ]
  },
  {
   "cell_type": "markdown",
   "id": "cc33d37b-f687-4582-97c0-37b028e50300",
   "metadata": {},
   "source": [
    "### TF-IDF"
   ]
  },
  {
   "cell_type": "code",
   "execution_count": 34,
   "id": "37b2227d-5f4a-4797-b037-4cc384a6d1ba",
   "metadata": {},
   "outputs": [],
   "source": [
    "from sklearn.feature_extraction.text import TfidfVectorizer"
   ]
  },
  {
   "cell_type": "code",
   "execution_count": 35,
   "id": "f2f14cfe-6e0d-4c59-8152-7aa30a184300",
   "metadata": {},
   "outputs": [],
   "source": [
    "#initialize the tf-idf vectorizer\n",
    "tfidf_vectorizer=TfidfVectorizer()\n",
    "#fit and transform the documents to calculate TF-IDF scores\n",
    "tfidf_matrix=tfidf_vectorizer.fit_transform(sentences)"
   ]
  },
  {
   "cell_type": "code",
   "execution_count": 36,
   "id": "0f2d637e-3bc1-4756-a8cd-c7528ab85b5a",
   "metadata": {},
   "outputs": [],
   "source": [
    "#get the list of feature names(words)\n",
    "feature_names=tfidf_vectorizer.get_feature_names_out()"
   ]
  },
  {
   "cell_type": "code",
   "execution_count": 37,
   "id": "dc459d21-7fdc-4ec2-be82-65c3cc43f089",
   "metadata": {},
   "outputs": [
    {
     "name": "stdout",
     "output_type": "stream",
     "text": [
      "TF-IDF Matrix:\n",
      "[[0.42339448 0.42339448 0.42339448 0.32200242 0.         0.\n",
      "  0.         0.         0.         0.         0.         0.42339448\n",
      "  0.         0.42339448 0.        ]\n",
      " [0.         0.         0.         0.         0.         0.\n",
      "  0.         0.         0.5628291  0.42804604 0.5628291  0.\n",
      "  0.         0.         0.42804604]\n",
      " [0.         0.         0.         0.24374827 0.32049968 0.64099936\n",
      "  0.32049968 0.32049968 0.         0.24374827 0.         0.\n",
      "  0.32049968 0.         0.24374827]]\n"
     ]
    }
   ],
   "source": [
    "#display the tf-idf matrix\n",
    "print(\"TF-IDF Matrix:\")\n",
    "print(tfidf_matrix.toarray())"
   ]
  },
  {
   "cell_type": "code",
   "execution_count": 38,
   "id": "d92075dc-d62b-4b8e-a0ae-dd29bda7cd7b",
   "metadata": {},
   "outputs": [
    {
     "name": "stdout",
     "output_type": "stream",
     "text": [
      "Feature Names:\n",
      "['and' 'ayesha' 'bus' 'by' 'expensive' 'flight' 'full' 'is' 'late' 'the'\n",
      " 'train' 'traveled' 'traveling' 'uttam' 'was']\n"
     ]
    }
   ],
   "source": [
    "#display the feature names\n",
    "print(\"Feature Names:\")\n",
    "print(feature_names)"
   ]
  },
  {
   "cell_type": "markdown",
   "id": "55774912-35f3-4c31-aa32-a83d647e1c40",
   "metadata": {},
   "source": [
    "# Topic Modeling"
   ]
  },
  {
   "cell_type": "code",
   "execution_count": 41,
   "id": "1058c214-ea00-4927-81a6-948a168f4a70",
   "metadata": {},
   "outputs": [
    {
     "name": "stdout",
     "output_type": "stream",
     "text": [
      "['Ayesha and Uttam traveled by bus.', 'The train was late.', 'The flight was full.traveling by flight is expensive.']\n"
     ]
    }
   ],
   "source": [
    "import pandas as pd\n",
    "from sklearn.feature_extraction.text import TfidfVectorizer\n",
    "from sklearn.decomposition import LatentDirichletAllocation   #LDA(latent dirichlet allocation)\n",
    "import spacy\n",
    "print(sentences)"
   ]
  },
  {
   "cell_type": "code",
   "execution_count": 42,
   "id": "35b1b7d6-5573-44aa-be1c-0300b364ace7",
   "metadata": {},
   "outputs": [
    {
     "data": {
      "text/html": [
       "<div>\n",
       "<style scoped>\n",
       "    .dataframe tbody tr th:only-of-type {\n",
       "        vertical-align: middle;\n",
       "    }\n",
       "\n",
       "    .dataframe tbody tr th {\n",
       "        vertical-align: top;\n",
       "    }\n",
       "\n",
       "    .dataframe thead th {\n",
       "        text-align: right;\n",
       "    }\n",
       "</style>\n",
       "<table border=\"1\" class=\"dataframe\">\n",
       "  <thead>\n",
       "    <tr style=\"text-align: right;\">\n",
       "      <th></th>\n",
       "      <th>text</th>\n",
       "    </tr>\n",
       "  </thead>\n",
       "  <tbody>\n",
       "    <tr>\n",
       "      <th>0</th>\n",
       "      <td>Ayesha and Uttam traveled by bus.</td>\n",
       "    </tr>\n",
       "    <tr>\n",
       "      <th>1</th>\n",
       "      <td>The train was late.</td>\n",
       "    </tr>\n",
       "    <tr>\n",
       "      <th>2</th>\n",
       "      <td>The flight was full.traveling by flight is expensive.</td>\n",
       "    </tr>\n",
       "  </tbody>\n",
       "</table>\n",
       "</div>"
      ],
      "text/plain": [
       "                                                    text\n",
       "0                      Ayesha and Uttam traveled by bus.\n",
       "1                                    The train was late.\n",
       "2  The flight was full.traveling by flight is expensive."
      ]
     },
     "execution_count": 42,
     "metadata": {},
     "output_type": "execute_result"
    }
   ],
   "source": [
    "pd.set_option('display.max_colwidth',100)\n",
    "data=pd.DataFrame({\"text\": sentences})\n",
    "data"
   ]
  },
  {
   "cell_type": "code",
   "execution_count": 43,
   "id": "b2604893-241f-449f-8bcb-db4c9b33050c",
   "metadata": {},
   "outputs": [],
   "source": [
    "def preprocess(text):\n",
    "    doc=nlp(text)\n",
    "    processed_tokens=[token.lemma_ for token in doc if not token.is_stop and token.is_alpha]\n",
    "    return' '.join(processed_tokens)"
   ]
  },
  {
   "cell_type": "code",
   "execution_count": 44,
   "id": "d14e2d94-871d-491e-9bb2-6ee6cb56d163",
   "metadata": {},
   "outputs": [
    {
     "data": {
      "text/html": [
       "<div>\n",
       "<style scoped>\n",
       "    .dataframe tbody tr th:only-of-type {\n",
       "        vertical-align: middle;\n",
       "    }\n",
       "\n",
       "    .dataframe tbody tr th {\n",
       "        vertical-align: top;\n",
       "    }\n",
       "\n",
       "    .dataframe thead th {\n",
       "        text-align: right;\n",
       "    }\n",
       "</style>\n",
       "<table border=\"1\" class=\"dataframe\">\n",
       "  <thead>\n",
       "    <tr style=\"text-align: right;\">\n",
       "      <th></th>\n",
       "      <th>text</th>\n",
       "      <th>processed_text</th>\n",
       "    </tr>\n",
       "  </thead>\n",
       "  <tbody>\n",
       "    <tr>\n",
       "      <th>0</th>\n",
       "      <td>Ayesha and Uttam traveled by bus.</td>\n",
       "      <td>Ayesha Uttam travel bus</td>\n",
       "    </tr>\n",
       "    <tr>\n",
       "      <th>1</th>\n",
       "      <td>The train was late.</td>\n",
       "      <td>train late</td>\n",
       "    </tr>\n",
       "    <tr>\n",
       "      <th>2</th>\n",
       "      <td>The flight was full.traveling by flight is expensive.</td>\n",
       "      <td>flight flight expensive</td>\n",
       "    </tr>\n",
       "  </tbody>\n",
       "</table>\n",
       "</div>"
      ],
      "text/plain": [
       "                                                    text  \\\n",
       "0                      Ayesha and Uttam traveled by bus.   \n",
       "1                                    The train was late.   \n",
       "2  The flight was full.traveling by flight is expensive.   \n",
       "\n",
       "            processed_text  \n",
       "0  Ayesha Uttam travel bus  \n",
       "1               train late  \n",
       "2  flight flight expensive  "
      ]
     },
     "execution_count": 44,
     "metadata": {},
     "output_type": "execute_result"
    }
   ],
   "source": [
    "data[\"processed_text\"]=data[\"text\"].apply(preprocess)\n",
    "data"
   ]
  },
  {
   "cell_type": "code",
   "execution_count": 45,
   "id": "241465d2-1279-4f63-9686-f99b17797505",
   "metadata": {},
   "outputs": [
    {
     "name": "stdout",
     "output_type": "stream",
     "text": [
      "[[0.33494904 0.33494904 0.77678605 1.22423421 0.33524481 0.33524481\n",
      "  0.33494904 0.33494904]\n",
      " [0.33491367 0.33491367 0.33536101 0.33523438 1.0369289  1.0369289\n",
      "  0.33491367 0.33491367]\n",
      " [0.8301373  0.8301373  0.33506654 0.3349586  0.33493307 0.33493307\n",
      "  0.8301373  0.8301373 ]]\n"
     ]
    }
   ],
   "source": [
    "#now create TF-IDF vectorizer and fit the model\n",
    "vectorizer=TfidfVectorizer()\n",
    "x=vectorizer.fit_transform(data[\"processed_text\"])\n",
    "#crate a latent dirichlet allocation model\n",
    "lda=LatentDirichletAllocation(n_components=3)  \n",
    "lda.fit(x)\n",
    "print(lda.components_)"
   ]
  },
  {
   "cell_type": "code",
   "execution_count": 46,
   "id": "5c440a20-4947-495b-ac9c-fb5ba1ad2f96",
   "metadata": {},
   "outputs": [
    {
     "name": "stdout",
     "output_type": "stream",
     "text": [
      "Topic1:\n",
      "flight,expensive,late,train,uttam\n",
      "\n",
      "Topic2:\n",
      "train,late,expensive,flight,uttam\n",
      "\n",
      "Topic3:\n",
      "travel,bus,ayesha,uttam,expensive\n",
      "\n"
     ]
    }
   ],
   "source": [
    "for idx, topic in enumerate(lda.components_):\n",
    "    print(f\"Topic{idx + 1}:\")\n",
    "    #get the top 5 words with highest weights for this topic\n",
    "    top_words_idx=topic.argsort()[-5:][::-1]\n",
    "    top_words= [vectorizer.get_feature_names_out()[i] for i in top_words_idx]\n",
    "    print(\",\".join(top_words))\n",
    "    print()"
   ]
  },
  {
   "cell_type": "markdown",
   "id": "6bd75c02-4b5a-4095-8572-25b7fd29b1c3",
   "metadata": {},
   "source": [
    "# TextBlob"
   ]
  },
  {
   "cell_type": "code",
   "execution_count": 47,
   "id": "43dd26cf-196b-4255-b090-1184e7292227",
   "metadata": {},
   "outputs": [
    {
     "name": "stdout",
     "output_type": "stream",
     "text": [
      "Requirement already satisfied: textblob in c:\\users\\ayasa\\anaconda\\lib\\site-packages (0.18.0.post0)\n",
      "Requirement already satisfied: nltk>=3.8 in c:\\users\\ayasa\\anaconda\\lib\\site-packages (from textblob) (3.8.1)\n",
      "Requirement already satisfied: click in c:\\users\\ayasa\\anaconda\\lib\\site-packages (from nltk>=3.8->textblob) (8.1.7)\n",
      "Requirement already satisfied: joblib in c:\\users\\ayasa\\anaconda\\lib\\site-packages (from nltk>=3.8->textblob) (1.2.0)\n",
      "Requirement already satisfied: regex>=2021.8.3 in c:\\users\\ayasa\\anaconda\\lib\\site-packages (from nltk>=3.8->textblob) (2023.10.3)\n",
      "Requirement already satisfied: tqdm in c:\\users\\ayasa\\anaconda\\lib\\site-packages (from nltk>=3.8->textblob) (4.65.0)\n",
      "Requirement already satisfied: colorama in c:\\users\\ayasa\\anaconda\\lib\\site-packages (from click->nltk>=3.8->textblob) (0.4.6)\n"
     ]
    }
   ],
   "source": [
    "!pip install textblob"
   ]
  },
  {
   "cell_type": "code",
   "execution_count": 48,
   "id": "b88ee97c-b115-4826-824b-0d8bce86a766",
   "metadata": {},
   "outputs": [],
   "source": [
    "from textblob import TextBlob"
   ]
  },
  {
   "cell_type": "code",
   "execution_count": 49,
   "id": "07c55661-c688-4972-abeb-37cc5ca6681a",
   "metadata": {},
   "outputs": [
    {
     "name": "stdout",
     "output_type": "stream",
     "text": [
      "The meaning of NLP is Natural Language Processing (NLP) which is a fascinating and rapidly evolving field that intersects computer science, artificial intelligence, and linguistics. NLP focuses on the interaction between computers and human language, enabling machines to understand, interpret, and generate human language in a way that is both meaningful and useful. With the increasing volume of text data generated every day, from social media posts to research articles, NLP has become an essential tool for extracting valuable insights and automating various tasks.\n",
      "\n"
     ]
    }
   ],
   "source": [
    "print(text)"
   ]
  },
  {
   "cell_type": "code",
   "execution_count": 50,
   "id": "2ed5845d-13de-4f3e-9272-dcc3b05d9c27",
   "metadata": {},
   "outputs": [],
   "source": [
    "blob=TextBlob(text)"
   ]
  },
  {
   "cell_type": "code",
   "execution_count": 51,
   "id": "2b55e334-9d10-414e-94b7-83f3ae53567a",
   "metadata": {},
   "outputs": [
    {
     "name": "stdout",
     "output_type": "stream",
     "text": [
      "['The', 'meaning', 'of', 'NLP', 'is', 'Natural', 'Language', 'Processing', 'NLP', 'which', 'is', 'a', 'fascinating', 'and', 'rapidly', 'evolving', 'field', 'that', 'intersects', 'computer', 'science', 'artificial', 'intelligence', 'and', 'linguistics', 'NLP', 'focuses', 'on', 'the', 'interaction', 'between', 'computers', 'and', 'human', 'language', 'enabling', 'machines', 'to', 'understand', 'interpret', 'and', 'generate', 'human', 'language', 'in', 'a', 'way', 'that', 'is', 'both', 'meaningful', 'and', 'useful', 'With', 'the', 'increasing', 'volume', 'of', 'text', 'data', 'generated', 'every', 'day', 'from', 'social', 'media', 'posts', 'to', 'research', 'articles', 'NLP', 'has', 'become', 'an', 'essential', 'tool', 'for', 'extracting', 'valuable', 'insights', 'and', 'automating', 'various', 'tasks']\n"
     ]
    }
   ],
   "source": [
    "#tokenization\n",
    "words=blob.words\n",
    "print(words)"
   ]
  },
  {
   "cell_type": "code",
   "execution_count": 52,
   "id": "70bf685c-87a4-4271-82e0-c9d5697301e7",
   "metadata": {},
   "outputs": [
    {
     "name": "stdout",
     "output_type": "stream",
     "text": [
      "[Sentence(\"The meaning of NLP is Natural Language Processing (NLP) which is a fascinating and rapidly evolving field that intersects computer science, artificial intelligence, and linguistics.\"), Sentence(\"NLP focuses on the interaction between computers and human language, enabling machines to understand, interpret, and generate human language in a way that is both meaningful and useful.\"), Sentence(\"With the increasing volume of text data generated every day, from social media posts to research articles, NLP has become an essential tool for extracting valuable insights and automating various tasks.\")]\n"
     ]
    }
   ],
   "source": [
    "sentences1=blob.sentences\n",
    "print(sentences1)"
   ]
  },
  {
   "cell_type": "code",
   "execution_count": 53,
   "id": "3e22237d-b8c0-4cb2-bcfe-bb6a68b9a1f4",
   "metadata": {},
   "outputs": [
    {
     "name": "stdout",
     "output_type": "stream",
     "text": [
      "[('The', 'DT'), ('meaning', 'NN'), ('of', 'IN'), ('NLP', 'NNP'), ('is', 'VBZ'), ('Natural', 'JJ'), ('Language', 'NNP'), ('Processing', 'NNP'), ('NLP', 'NNP'), ('which', 'WDT'), ('is', 'VBZ'), ('a', 'DT'), ('fascinating', 'JJ'), ('and', 'CC'), ('rapidly', 'RB'), ('evolving', 'VBG'), ('field', 'NN'), ('that', 'WDT'), ('intersects', 'VBZ'), ('computer', 'NN'), ('science', 'NN'), ('artificial', 'JJ'), ('intelligence', 'NN'), ('and', 'CC'), ('linguistics', 'NNS'), ('NLP', 'NNP'), ('focuses', 'VBZ'), ('on', 'IN'), ('the', 'DT'), ('interaction', 'NN'), ('between', 'IN'), ('computers', 'NNS'), ('and', 'CC'), ('human', 'JJ'), ('language', 'NN'), ('enabling', 'VBG'), ('machines', 'NNS'), ('to', 'TO'), ('understand', 'VB'), ('interpret', 'VB'), ('and', 'CC'), ('generate', 'VB'), ('human', 'JJ'), ('language', 'NN'), ('in', 'IN'), ('a', 'DT'), ('way', 'NN'), ('that', 'WDT'), ('is', 'VBZ'), ('both', 'DT'), ('meaningful', 'JJ'), ('and', 'CC'), ('useful', 'JJ'), ('With', 'IN'), ('the', 'DT'), ('increasing', 'VBG'), ('volume', 'NN'), ('of', 'IN'), ('text', 'NN'), ('data', 'NNS'), ('generated', 'VBD'), ('every', 'DT'), ('day', 'NN'), ('from', 'IN'), ('social', 'JJ'), ('media', 'NNS'), ('posts', 'NNS'), ('to', 'TO'), ('research', 'NN'), ('articles', 'NNS'), ('NLP', 'NNP'), ('has', 'VBZ'), ('become', 'VBN'), ('an', 'DT'), ('essential', 'JJ'), ('tool', 'NN'), ('for', 'IN'), ('extracting', 'VBG'), ('valuable', 'JJ'), ('insights', 'NNS'), ('and', 'CC'), ('automating', 'VBG'), ('various', 'JJ'), ('tasks', 'NNS')]\n"
     ]
    }
   ],
   "source": [
    "pos_tags=blob.tags\n",
    "print(pos_tags)"
   ]
  },
  {
   "cell_type": "code",
   "execution_count": 54,
   "id": "09281a4b-4a5d-4319-8386-1b2041b744ad",
   "metadata": {},
   "outputs": [
    {
     "name": "stderr",
     "output_type": "stream",
     "text": [
      "[nltk_data] Downloading package brown to\n",
      "[nltk_data]     C:\\Users\\ayasa\\AppData\\Roaming\\nltk_data...\n",
      "[nltk_data]   Package brown is already up-to-date!\n"
     ]
    },
    {
     "data": {
      "text/plain": [
       "True"
      ]
     },
     "execution_count": 54,
     "metadata": {},
     "output_type": "execute_result"
    }
   ],
   "source": [
    "import nltk\n",
    "nltk.download('brown')\n",
    "  "
   ]
  },
  {
   "cell_type": "code",
   "execution_count": 55,
   "id": "e43c204e-a1cd-4b14-96db-3ed2f53106df",
   "metadata": {},
   "outputs": [
    {
     "data": {
      "text/plain": [
       "WordList(['nlp', 'language processing', 'nlp', 'intersects computer science', 'artificial intelligence', 'nlp', 'human language', 'generate human language', 'text data', 'social media posts', 'research articles', 'nlp', 'essential tool', 'valuable insights', 'various tasks'])"
      ]
     },
     "execution_count": 55,
     "metadata": {},
     "output_type": "execute_result"
    }
   ],
   "source": [
    "#noun phrases\n",
    "noun_phrases=blob.noun_phrases\n",
    "noun_phrases"
   ]
  },
  {
   "cell_type": "code",
   "execution_count": 56,
   "id": "4964e337-8321-47ac-8dd2-3bfb2b081a2a",
   "metadata": {},
   "outputs": [
    {
     "data": {
      "text/plain": [
       "TextBlob(\"The meaning of NLP is Natural Language Processing (NLP) which is a fascinating and rapidly revolving field that intersect computer science, artificial intelligence, and linguistic. NLP focused on the interaction between computers and human language, enabling machines to understand, interpret, and generate human language in a way that is both meaningful and useful. With the increasing volume of text data generate every day, from social media posts to research articles, NLP has become an essential tool for exacting valuable insight and automatic various tasks.\n",
       "\")"
      ]
     },
     "execution_count": 56,
     "metadata": {},
     "output_type": "execute_result"
    }
   ],
   "source": [
    "#spell cheaker\n",
    "obj=TextBlob(text)\n",
    "obj.correct()"
   ]
  },
  {
   "cell_type": "code",
   "execution_count": 57,
   "id": "c780f36d-73c6-4a3a-a19e-5d45eb8d0f51",
   "metadata": {},
   "outputs": [
    {
     "data": {
      "text/plain": [
       "TextBlob(\"I have a book\")"
      ]
     },
     "execution_count": 57,
     "metadata": {},
     "output_type": "execute_result"
    }
   ],
   "source": [
    "#example\n",
    "text7=\"I havv a book\"\n",
    "obj2=TextBlob(text7)\n",
    "obj2.correct()"
   ]
  },
  {
   "cell_type": "code",
   "execution_count": 58,
   "id": "68730c57-0fe0-4be0-bbf0-0e7f4ac778c7",
   "metadata": {},
   "outputs": [
    {
     "data": {
      "text/plain": [
       "'books'"
      ]
     },
     "execution_count": 58,
     "metadata": {},
     "output_type": "execute_result"
    }
   ],
   "source": [
    "#plural form cheaker\n",
    "obj2.words[3].pluralize()"
   ]
  },
  {
   "cell_type": "code",
   "execution_count": 59,
   "id": "6d6aef81-e30e-4f51-9131-9b31e5eacb1c",
   "metadata": {},
   "outputs": [],
   "source": [
    "#to find sentiment\n",
    "obj=TextBlob(text)"
   ]
  },
  {
   "cell_type": "code",
   "execution_count": 61,
   "id": "de17332f-8081-4bd3-b128-5e46473abbcf",
   "metadata": {},
   "outputs": [
    {
     "data": {
      "text/plain": [
       "Sentiment(polarity=0.10333333333333335, subjectivity=0.3816666666666667)"
      ]
     },
     "execution_count": 61,
     "metadata": {},
     "output_type": "execute_result"
    }
   ],
   "source": [
    "obj.sentiment   "
   ]
  },
  {
   "cell_type": "code",
   "execution_count": 62,
   "id": "2f7b7e6f-d693-49fb-bf15-318f05b97ffb",
   "metadata": {},
   "outputs": [
    {
     "data": {
      "text/plain": [
       "0.10333333333333335"
      ]
     },
     "execution_count": 62,
     "metadata": {},
     "output_type": "execute_result"
    }
   ],
   "source": [
    "obj.sentiment.polarity"
   ]
  },
  {
   "cell_type": "markdown",
   "id": "b3c79798-272f-4035-906a-e72498d028c3",
   "metadata": {},
   "source": [
    "# N-grams in NLP"
   ]
  },
  {
   "cell_type": "code",
   "execution_count": 63,
   "id": "a0ee1c13-26c4-4d38-a79b-63986d7c3e15",
   "metadata": {},
   "outputs": [],
   "source": [
    "import nltk\n",
    "from nltk.util import ngrams"
   ]
  },
  {
   "cell_type": "code",
   "execution_count": 64,
   "id": "387a4cc7-9264-436e-acb6-2db8f5b9716c",
   "metadata": {},
   "outputs": [
    {
     "name": "stdout",
     "output_type": "stream",
     "text": [
      "Bigrams: [('The', 'meaning'), ('meaning', 'of'), ('of', 'NLP'), ('NLP', 'is'), ('is', 'Natural'), ('Natural', 'Language'), ('Language', 'Processing'), ('Processing', '('), ('(', 'NLP'), ('NLP', ')'), (')', 'which'), ('which', 'is'), ('is', 'a'), ('a', 'fascinating'), ('fascinating', 'and'), ('and', 'rapidly'), ('rapidly', 'evolving'), ('evolving', 'field'), ('field', 'that'), ('that', 'intersects'), ('intersects', 'computer'), ('computer', 'science'), ('science', ','), (',', 'artificial'), ('artificial', 'intelligence'), ('intelligence', ','), (',', 'and'), ('and', 'linguistics'), ('linguistics', '.'), ('.', 'NLP'), ('NLP', 'focuses'), ('focuses', 'on'), ('on', 'the'), ('the', 'interaction'), ('interaction', 'between'), ('between', 'computers'), ('computers', 'and'), ('and', 'human'), ('human', 'language'), ('language', ','), (',', 'enabling'), ('enabling', 'machines'), ('machines', 'to'), ('to', 'understand'), ('understand', ','), (',', 'interpret'), ('interpret', ','), (',', 'and'), ('and', 'generate'), ('generate', 'human'), ('human', 'language'), ('language', 'in'), ('in', 'a'), ('a', 'way'), ('way', 'that'), ('that', 'is'), ('is', 'both'), ('both', 'meaningful'), ('meaningful', 'and'), ('and', 'useful'), ('useful', '.'), ('.', 'With'), ('With', 'the'), ('the', 'increasing'), ('increasing', 'volume'), ('volume', 'of'), ('of', 'text'), ('text', 'data'), ('data', 'generated'), ('generated', 'every'), ('every', 'day'), ('day', ','), (',', 'from'), ('from', 'social'), ('social', 'media'), ('media', 'posts'), ('posts', 'to'), ('to', 'research'), ('research', 'articles'), ('articles', ','), (',', 'NLP'), ('NLP', 'has'), ('has', 'become'), ('become', 'an'), ('an', 'essential'), ('essential', 'tool'), ('tool', 'for'), ('for', 'extracting'), ('extracting', 'valuable'), ('valuable', 'insights'), ('insights', 'and'), ('and', 'automating'), ('automating', 'various'), ('various', 'tasks'), ('tasks', '.')]\n",
      "\n",
      "Trigrams: [('The', 'meaning', 'of'), ('meaning', 'of', 'NLP'), ('of', 'NLP', 'is'), ('NLP', 'is', 'Natural'), ('is', 'Natural', 'Language'), ('Natural', 'Language', 'Processing'), ('Language', 'Processing', '('), ('Processing', '(', 'NLP'), ('(', 'NLP', ')'), ('NLP', ')', 'which'), (')', 'which', 'is'), ('which', 'is', 'a'), ('is', 'a', 'fascinating'), ('a', 'fascinating', 'and'), ('fascinating', 'and', 'rapidly'), ('and', 'rapidly', 'evolving'), ('rapidly', 'evolving', 'field'), ('evolving', 'field', 'that'), ('field', 'that', 'intersects'), ('that', 'intersects', 'computer'), ('intersects', 'computer', 'science'), ('computer', 'science', ','), ('science', ',', 'artificial'), (',', 'artificial', 'intelligence'), ('artificial', 'intelligence', ','), ('intelligence', ',', 'and'), (',', 'and', 'linguistics'), ('and', 'linguistics', '.'), ('linguistics', '.', 'NLP'), ('.', 'NLP', 'focuses'), ('NLP', 'focuses', 'on'), ('focuses', 'on', 'the'), ('on', 'the', 'interaction'), ('the', 'interaction', 'between'), ('interaction', 'between', 'computers'), ('between', 'computers', 'and'), ('computers', 'and', 'human'), ('and', 'human', 'language'), ('human', 'language', ','), ('language', ',', 'enabling'), (',', 'enabling', 'machines'), ('enabling', 'machines', 'to'), ('machines', 'to', 'understand'), ('to', 'understand', ','), ('understand', ',', 'interpret'), (',', 'interpret', ','), ('interpret', ',', 'and'), (',', 'and', 'generate'), ('and', 'generate', 'human'), ('generate', 'human', 'language'), ('human', 'language', 'in'), ('language', 'in', 'a'), ('in', 'a', 'way'), ('a', 'way', 'that'), ('way', 'that', 'is'), ('that', 'is', 'both'), ('is', 'both', 'meaningful'), ('both', 'meaningful', 'and'), ('meaningful', 'and', 'useful'), ('and', 'useful', '.'), ('useful', '.', 'With'), ('.', 'With', 'the'), ('With', 'the', 'increasing'), ('the', 'increasing', 'volume'), ('increasing', 'volume', 'of'), ('volume', 'of', 'text'), ('of', 'text', 'data'), ('text', 'data', 'generated'), ('data', 'generated', 'every'), ('generated', 'every', 'day'), ('every', 'day', ','), ('day', ',', 'from'), (',', 'from', 'social'), ('from', 'social', 'media'), ('social', 'media', 'posts'), ('media', 'posts', 'to'), ('posts', 'to', 'research'), ('to', 'research', 'articles'), ('research', 'articles', ','), ('articles', ',', 'NLP'), (',', 'NLP', 'has'), ('NLP', 'has', 'become'), ('has', 'become', 'an'), ('become', 'an', 'essential'), ('an', 'essential', 'tool'), ('essential', 'tool', 'for'), ('tool', 'for', 'extracting'), ('for', 'extracting', 'valuable'), ('extracting', 'valuable', 'insights'), ('valuable', 'insights', 'and'), ('insights', 'and', 'automating'), ('and', 'automating', 'various'), ('automating', 'various', 'tasks'), ('various', 'tasks', '.')]\n"
     ]
    }
   ],
   "source": [
    "tokens= nltk.word_tokenize(text)\n",
    "bigrams=list(ngrams(tokens,2))\n",
    "trigrams=list(ngrams(tokens,3))\n",
    "\n",
    "print(\"Bigrams:\", bigrams)\n",
    "print('')\n",
    "print(\"Trigrams:\", trigrams)"
   ]
  },
  {
   "cell_type": "code",
   "execution_count": 65,
   "id": "2ab3179a-7729-41d1-a99b-ab3ebc1837d3",
   "metadata": {},
   "outputs": [
    {
     "name": "stdout",
     "output_type": "stream",
     "text": [
      "Bigrams: [('This', 'is'), ('is', 'a'), ('a', 'sentence'), ('sentence', '.')]\n",
      "\n",
      "Trigrams: [('This', 'is', 'a'), ('is', 'a', 'sentence'), ('a', 'sentence', '.')]\n"
     ]
    }
   ],
   "source": [
    "#example\n",
    "text9 = \"This is a sentence.\"\n",
    "tokens= nltk.word_tokenize(text9)\n",
    "bigrams=list(ngrams(tokens,2))\n",
    "trigrams=list(ngrams(tokens,3))\n",
    "\n",
    "print(\"Bigrams:\", bigrams)\n",
    "print('')\n",
    "print(\"Trigrams:\", trigrams)"
   ]
  },
  {
   "cell_type": "code",
   "execution_count": 66,
   "id": "3443dcc8-7fa7-443c-90a4-c6149d1e9ffe",
   "metadata": {},
   "outputs": [],
   "source": [
    "#Language modeling\n",
    "import nltk\n",
    "from nltk.lm import MLE  #maximum likelihood estimation\n",
    "from nltk.lm.preprocessing import padded_everygram_pipeline\n"
   ]
  },
  {
   "cell_type": "markdown",
   "id": "ff798e78-503b-432f-a09b-6b750e8fe24d",
   "metadata": {},
   "source": [
    "#padded_everygram_pipeline=pad_sequence+everygrams\n",
    "padd_sequence: padding adds special tokens to make all sentences the same length.\n",
    "everygrams: is a function that helps you generate all possible n-grams"
   ]
  },
  {
   "cell_type": "code",
   "execution_count": 67,
   "id": "6cbe22c2-dcff-4d5b-aeac-a8e79974bacd",
   "metadata": {},
   "outputs": [
    {
     "name": "stdout",
     "output_type": "stream",
     "text": [
      "Generated text: i n s i g h t s\n"
     ]
    }
   ],
   "source": [
    "\n",
    "sentences3=[nltk.word_tokenize(sent) for sent in nltk.sent_tokenize(text)]\n",
    "n=3\n",
    "train_data,padded_sents=padded_everygram_pipeline(n,sentences3)\n",
    "model=MLE(n)\n",
    "model.fit(train_data,padded_sents)\n",
    "next_word=model.generate(1,random_seed=42)\n",
    "print(\"Generated text:\",\" \".join(next_word))"
   ]
  },
  {
   "cell_type": "code",
   "execution_count": null,
   "id": "002a6150-006f-4260-9139-c614a0b92588",
   "metadata": {},
   "outputs": [],
   "source": []
  },
  {
   "cell_type": "code",
   "execution_count": null,
   "id": "6c7c1d1f-f462-45b3-b4d3-853b2f709e29",
   "metadata": {},
   "outputs": [],
   "source": []
  }
 ],
 "metadata": {
  "kernelspec": {
   "display_name": "Python 3 (ipykernel)",
   "language": "python",
   "name": "python3"
  },
  "language_info": {
   "codemirror_mode": {
    "name": "ipython",
    "version": 3
   },
   "file_extension": ".py",
   "mimetype": "text/x-python",
   "name": "python",
   "nbconvert_exporter": "python",
   "pygments_lexer": "ipython3",
   "version": "3.11.7"
  }
 },
 "nbformat": 4,
 "nbformat_minor": 5
}
